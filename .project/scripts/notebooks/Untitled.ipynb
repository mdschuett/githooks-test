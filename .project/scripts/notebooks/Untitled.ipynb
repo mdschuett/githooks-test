{
 "cells": [
  {
   "cell_type": "code",
   "execution_count": 2,
   "id": "6fa57970",
   "metadata": {},
   "outputs": [],
   "source": [
    "from dulwich.repo import Repo"
   ]
  },
  {
   "cell_type": "code",
   "execution_count": 5,
   "id": "8ddb9f1a",
   "metadata": {},
   "outputs": [],
   "source": [
    "repo = Repo(\"../../../\")"
   ]
  },
  {
   "cell_type": "code",
   "execution_count": 8,
   "id": "912ab767",
   "metadata": {},
   "outputs": [
    {
     "data": {
      "text/plain": [
       "b'fb3be639cd17e98694b813f9ec05239d9f180c75'"
      ]
     },
     "execution_count": 8,
     "metadata": {},
     "output_type": "execute_result"
    }
   ],
   "source": [
    "repo.head()"
   ]
  },
  {
   "cell_type": "code",
   "execution_count": 11,
   "id": "1badc485",
   "metadata": {},
   "outputs": [],
   "source": [
    "index = repo.open_index()"
   ]
  },
  {
   "cell_type": "code",
   "execution_count": 13,
   "id": "5cefa32d",
   "metadata": {},
   "outputs": [
    {
     "data": {
      "text/plain": [
       "[b'README.md']"
      ]
     },
     "execution_count": 13,
     "metadata": {},
     "output_type": "execute_result"
    }
   ],
   "source": [
    "list(index)"
   ]
  }
 ],
 "metadata": {
  "kernelspec": {
   "display_name": "Python 3 (ipykernel)",
   "language": "python",
   "name": "python3"
  },
  "language_info": {
   "codemirror_mode": {
    "name": "ipython",
    "version": 3
   },
   "file_extension": ".py",
   "mimetype": "text/x-python",
   "name": "python",
   "nbconvert_exporter": "python",
   "pygments_lexer": "ipython3",
   "version": "3.8.10"
  },
  "toc": {
   "base_numbering": 1,
   "nav_menu": {},
   "number_sections": true,
   "sideBar": true,
   "skip_h1_title": false,
   "title_cell": "Table of Contents",
   "title_sidebar": "Contents",
   "toc_cell": false,
   "toc_position": {},
   "toc_section_display": true,
   "toc_window_display": false
  }
 },
 "nbformat": 4,
 "nbformat_minor": 5
}
